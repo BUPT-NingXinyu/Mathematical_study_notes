{
 "cells": [
  {
   "cell_type": "markdown",
   "id": "acb0301d-4dd3-4925-a0e5-28a4bff067f1",
   "metadata": {},
   "source": [
    "# Python之建模图论篇"
   ]
  },
  {
   "cell_type": "markdown",
   "id": "3b6d1d0a-a076-4c2a-9d6d-f5ef7a3b6b77",
   "metadata": {},
   "source": [
    "* 图 - Dijkstra\n",
    "* 图 - Floyd\n",
    "* 机场航线设计"
   ]
  },
  {
   "cell_type": "markdown",
   "id": "d514ca5f-7ea2-4e82-8d2e-86f4dd6581cb",
   "metadata": {},
   "source": [
    "![](./img/P7_1.png)"
   ]
  },
  {
   "cell_type": "markdown",
   "id": "758a39d2-9f48-4334-96e0-f593e1d27fdb",
   "metadata": {},
   "source": [
    "![](./img/P7_2.png)"
   ]
  },
  {
   "cell_type": "markdown",
   "id": "cd656caf-36a1-4562-9db5-2164254fbc95",
   "metadata": {},
   "source": [
    "![](./img/P7_3.png)"
   ]
  },
  {
   "cell_type": "markdown",
   "id": "9cd86bfc-db9a-4918-bbc8-eaf2140071fe",
   "metadata": {},
   "source": [
    "![](./img/P7_4.png)"
   ]
  },
  {
   "cell_type": "code",
   "execution_count": 3,
   "id": "0565d674-2987-431c-aef7-e167e8b9ca95",
   "metadata": {},
   "outputs": [
    {
     "name": "stdout",
     "output_type": "stream",
     "text": [
      "最短距离为:8\n",
      "前进路径为:[1, 2, 5, 7, 9]\n"
     ]
    }
   ],
   "source": [
    "from collections import defaultdict\n",
    "from heapq import *\n",
    "\n",
    "inf = 99999  # 不连通值\n",
    "mtx_graph = [[0, 1, inf, 3, inf, inf, inf, inf, inf],\n",
    "             [1, 0, 5, inf, 2, inf, inf, inf, inf],\n",
    "             [inf, inf, 0, 1, inf, 6, inf, inf, inf],\n",
    "             [inf, inf, inf, 0, inf, 7, inf, 9, inf],\n",
    "             [inf, 2, 3, inf, 0, 4, 2, inf, 8],\n",
    "             [inf, inf, 6, 7, inf, 0, inf, 2, inf],\n",
    "             [inf, inf, inf, inf, inf, 1, 0, inf, 3],\n",
    "             [inf, inf, inf, inf, inf, inf, 1, 0, 2],\n",
    "             [inf, inf, inf, inf, 8, inf, 3, 2, 0]]\n",
    "m_n = len(mtx_graph)  # 带权连接矩阵的阶数\n",
    "edges = []  # 保存联通的两个点之间的距离（点A，点B，距离）\n",
    "for i in range(m_n):\n",
    "    for j in range(m_n):\n",
    "        if i!=j and mtx_graph[i][j]!= inf:\n",
    "            edges.append((i,j,mtx_graph[i][j]))\n",
    "            \n",
    "def dijkstra(edges, from_node, to_node):\n",
    "    go_path = []\n",
    "    to_node = to_node-1\n",
    "    g = defaultdict(list)\n",
    "    for l,r,c in edges:\n",
    "        g[l].append((c,r))\n",
    "    q, seen = [(0, from_node-1, ())], set()\n",
    "    while q:\n",
    "        (cost, v1, path) = heappop(q)  # 堆弹出当前路径最小成本\n",
    "        if v1 not in seen:\n",
    "            seen.add(v1)\n",
    "            path = (v1, path)\n",
    "            if v1 == to_node:\n",
    "                break\n",
    "            for c, v2 in g.get(v1, ()):\n",
    "                if v2 not in seen:\n",
    "                    heappush(q, (cost+c, v2, path))\n",
    "    if v1!=to_node:  # 无法到达\n",
    "        return float['inf'], []\n",
    "    if len(path)>0:\n",
    "        left=path[0]\n",
    "        go_path.append(left)\n",
    "        right=path[1]\n",
    "        while len(right)>0:\n",
    "            left=right[0]\n",
    "            go_path.append(left)\n",
    "            right=right[1]\n",
    "        go_path.reverse()  # 逆序变换\n",
    "        for i in range(len(go_path)):  # 标号加1\n",
    "            go_path[i]=go_path[i]+1\n",
    "    return cost, go_path\n",
    "\n",
    "leght, path = dijkstra(edges, 1, 9)\n",
    "print('最短距离为:'+str(leght))\n",
    "print('前进路径为:'+str(path))"
   ]
  },
  {
   "cell_type": "markdown",
   "id": "b2db915f-23af-4d86-b65d-06663525269b",
   "metadata": {},
   "source": [
    "![](./img/P7_5.png)"
   ]
  },
  {
   "cell_type": "markdown",
   "id": "32d12aed-785f-412d-ba08-0175dfb0013c",
   "metadata": {},
   "source": [
    "![](./img/P7_6.png)"
   ]
  },
  {
   "cell_type": "code",
   "execution_count": 6,
   "id": "ccf241c8-185a-4678-b4c8-3d73ec244156",
   "metadata": {},
   "outputs": [
    {
     "name": "stdout",
     "output_type": "stream",
     "text": [
      "距离 = \n",
      "[[ 0  1  6  3  3  6  5  8  8]\n",
      " [ 1  0  5  4  2  5  4  7  7]\n",
      " [21 20  0  1 18  6  9  8 10]\n",
      " [22 21 13  0 19  7 10  9 11]\n",
      " [ 3  2  3  4  0  3  2  5  5]\n",
      " [15 14  6  7 12  0  3  2  4]\n",
      " [14 13  7  8 11  1  0  3  3]\n",
      " [13 12  8  9 10  2  1  0  2]\n",
      " [11 10 10 11  8  4  3  2  0]]\n",
      "路径 = \n",
      "[[1. 2. 2. 4. 2. 2. 2. 2. 2.]\n",
      " [1. 2. 3. 1. 5. 5. 5. 5. 5.]\n",
      " [6. 6. 3. 4. 6. 6. 6. 6. 6.]\n",
      " [8. 8. 6. 4. 8. 6. 8. 8. 8.]\n",
      " [2. 2. 3. 3. 5. 7. 7. 7. 7.]\n",
      " [8. 8. 3. 4. 8. 6. 8. 8. 8.]\n",
      " [9. 9. 6. 6. 9. 6. 7. 6. 9.]\n",
      " [9. 9. 7. 7. 9. 7. 7. 8. 9.]\n",
      " [5. 5. 7. 7. 5. 7. 7. 8. 9.]]\n"
     ]
    }
   ],
   "source": [
    "import numpy as np\n",
    "\n",
    "inf = 99999  # 不连通值\n",
    "mtx_graph = [[0, 1, inf, 3, inf, inf, inf, inf, inf],\n",
    "             [1, 0, 5, inf, 2, inf, inf, inf, inf],\n",
    "             [inf, inf, 0, 1, inf, 6, inf, inf, inf],\n",
    "             [inf, inf, inf, 0, inf, 7, inf, 9, inf],\n",
    "             [inf, 2, 3, inf, 0, 4, 2, inf, 8],\n",
    "             [inf, inf, 6, 7, inf, 0, inf, 2, inf],\n",
    "             [inf, inf, inf, inf, inf, 1, 0, inf, 3],\n",
    "             [inf, inf, inf, inf, inf, inf, 1, 0, 2],\n",
    "             [inf, inf, inf, inf, 8, inf, 3, 2, 0]]\n",
    "\n",
    "def Floyd(graph):\n",
    "    N = len(graph)\n",
    "    A = np.array(graph)\n",
    "    path = np.zeros((N,N))\n",
    "    for i in range(0,N):\n",
    "        for j in range(0,N):\n",
    "            if A[i][j]!=inf:\n",
    "                path[i][j]=j\n",
    "    for k in range(0,N):\n",
    "        for i in range(0,N):\n",
    "            for j in range(0,N):\n",
    "                if A[i][k]+A[k][j]<A[i][j]:\n",
    "                    A[i][j] = A[i][k]+A[k][j]\n",
    "                    path[i][j] = path[i][k]\n",
    "    for i in range(0,N):\n",
    "        for j in range(0,N):\n",
    "            path[i][j]=path[i][j]+1\n",
    "    print('距离 = ')\n",
    "    print(A)\n",
    "    print('路径 = ')\n",
    "    print(path)\n",
    "    \n",
    "Floyd(mtx_graph)"
   ]
  },
  {
   "cell_type": "markdown",
   "id": "7d2fea8c-93d7-43b3-a69e-6823fc98a703",
   "metadata": {},
   "source": [
    "![](./img/P7_7.png)"
   ]
  },
  {
   "cell_type": "markdown",
   "id": "b5dbadec-fbcc-414c-bec9-44ab545c5da5",
   "metadata": {},
   "source": [
    "![](./img/P7_8.png)"
   ]
  },
  {
   "cell_type": "markdown",
   "id": "6e18b570-ef43-4aca-95a0-befe6e3a9e61",
   "metadata": {},
   "source": [
    "### 代码：此部分没有数据，跳过"
   ]
  },
  {
   "cell_type": "markdown",
   "id": "ae1c4906-e43e-43a9-9a00-447bec3c3082",
   "metadata": {},
   "source": [
    "# Python之建模回归篇"
   ]
  },
  {
   "cell_type": "markdown",
   "id": "c004fb72-0320-4a5d-abb4-280a58e7b9e6",
   "metadata": {},
   "source": [
    "* 多元回归\n",
    "* logistic回归"
   ]
  },
  {
   "cell_type": "markdown",
   "id": "41879ad4-54fd-4ca7-8506-223052eabdc2",
   "metadata": {},
   "source": [
    "![](./img/P7_9.png)"
   ]
  },
  {
   "cell_type": "markdown",
   "id": "bc32b90b-f2d0-4733-8587-5a76f1734c9a",
   "metadata": {},
   "source": [
    "![](./img/P7_10.png)"
   ]
  },
  {
   "cell_type": "markdown",
   "id": "8e554f84-62dd-4954-9b1d-382d5468b112",
   "metadata": {},
   "source": [
    "![](./img/P7_11.png)"
   ]
  },
  {
   "cell_type": "markdown",
   "id": "697bb185-1e42-4d74-baa3-b5c059d80fdf",
   "metadata": {},
   "source": [
    "### 代码：此部分没有数据，跳过"
   ]
  },
  {
   "cell_type": "markdown",
   "id": "939af314-b00b-4003-a42b-f94e529b968e",
   "metadata": {},
   "source": [
    "![](./img/P7_12.png)"
   ]
  },
  {
   "cell_type": "code",
   "execution_count": 7,
   "id": "41da911e-7bd9-46cf-a539-e7790e54f922",
   "metadata": {},
   "outputs": [
    {
     "data": {
      "image/png": "[encoded data removed]",
      "text/plain": [
       "<Figure size 432x288 with 1 Axes>"
      ]
     },
     "metadata": {
      "needs_background": "light"
     },
     "output_type": "display_data"
    }
   ],
   "source": [
    "import matplotlib.pyplot as plt\n",
    "import numpy as np\n",
    "from sklearn.datasets import load_iris\n",
    "\n",
    "iris = load_iris()\n",
    "# 获取花卉两列数据集\n",
    "DD = iris.data\n",
    "X = [x[0] for x in DD]\n",
    "Y = [x[1] for x in DD]\n",
    "plt.scatter(X[:50], Y[:50], color='red', marker='o', label='setosa')\n",
    "plt.scatter(X[50:100], Y[50:100], color='blue', marker='x', label='versicolor')\n",
    "plt.scatter(X[100:], Y[100:], color='green', marker='+', label='Virginica')\n",
    "plt.legend(loc=2)  # 左上角\n",
    "plt.show()"
   ]
  },
  {
   "cell_type": "code",
   "execution_count": 11,
   "id": "061a7292-baff-4850-880d-4763f123c5e2",
   "metadata": {},
   "outputs": [
    {
     "data": {
      "image/png": "[encoded data removed]",
      "text/plain": [
       "<Figure size 576x432 with 1 Axes>"
      ]
     },
     "metadata": {},
     "output_type": "display_data"
    }
   ],
   "source": [
    "# 2.3 逻辑回归分析\n",
    "from sklearn.linear_model import LogisticRegression\n",
    "iris = load_iris()\n",
    "X = iris.data[:, :2]\n",
    "Y = iris.target\n",
    "lr = LogisticRegression(C=1e5)\n",
    "lr.fit(X, Y)\n",
    "# meshgrid函数生成两个网格矩阵\n",
    "h = .02\n",
    "x_min, x_max = X[:, 0].min()-.5, X[:, 0].max()+.5\n",
    "y_min, y_max = X[:, 1].min()-.5, X[:, 1].max()+.5\n",
    "xx, yy = np.meshgrid(np.arange(x_min, x_max, h), np.arange(y_min, y_max, h))\n",
    "Z = lr.predict(np.c_[xx.ravel(), yy.ravel()])\n",
    "Z = Z.reshape(xx.shape)\n",
    "plt.figure(1, figsize=(8, 6))\n",
    "plt.pcolormesh(xx, yy, Z, cmap=plt.cm.Paired)\n",
    "plt.scatter(X[:50,0], X[:50,1], color='red', marker='o', label='setosa')\n",
    "plt.scatter(X[50:100,0], X[50:100,1], color='blue', marker='x', label='versicolor')\n",
    "plt.scatter(X[100:,0], X[100:,1], color='green', marker='+', label='Virginica')\n",
    "plt.xlabel('Sepal length')\n",
    "plt.ylabel('Sepal width')\n",
    "plt.xlim(xx.min(), xx.max())\n",
    "plt.ylim(yy.min(), yy.max())\n",
    "plt.xticks(())\n",
    "plt.yticks(())\n",
    "plt.legend(loc=2)\n",
    "plt.show()"
   ]
  },
  {
   "cell_type": "code",
   "execution_count": null,
   "id": "e86e2151-69be-4e2e-b6dc-a3667fe56a1d",
   "metadata": {},
   "outputs": [],
   "source": []
  }
 ],
 "metadata": {
  "kernelspec": {
   "display_name": "Python 3 (ipykernel)",
   "language": "python",
   "name": "python3"
  },
  "language_info": {
   "codemirror_mode": {
    "name": "ipython",
    "version": 3
   },
   "file_extension": ".py",
   "mimetype": "text/x-python",
   "name": "python",
   "nbconvert_exporter": "python",
   "pygments_lexer": "ipython3",
   "version": "3.7.13"
  }
 },
 "nbformat": 4,
 "nbformat_minor": 5
}
