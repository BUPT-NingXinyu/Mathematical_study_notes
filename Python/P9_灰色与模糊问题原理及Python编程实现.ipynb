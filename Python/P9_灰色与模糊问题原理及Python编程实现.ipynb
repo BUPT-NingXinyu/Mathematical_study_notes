{
 "cells": [
  {
   "cell_type": "markdown",
   "id": "18735f46-fea8-44cb-aa07-e29b3e3e389f",
   "metadata": {},
   "source": [
    "# Python之建模灰色篇"
   ]
  },
  {
   "cell_type": "markdown",
   "id": "ec185fe1-db1c-4a69-8b80-9346dde01c1a",
   "metadata": {},
   "source": [
    "* 多层模糊评价\n",
    "* 模糊c均值聚类 （FCM聚类）\n",
    "* 灰色预测 （GME）"
   ]
  },
  {
   "cell_type": "markdown",
   "id": "714de8bb-5e5a-4c39-98a1-a147349434ba",
   "metadata": {},
   "source": [
    "![](./img/P9_1.png)"
   ]
  },
  {
   "cell_type": "markdown",
   "id": "3a74fb1d-6f48-410f-bd23-d13518fc5f16",
   "metadata": {},
   "source": [
    "![](./img/P9_2.png)"
   ]
  },
  {
   "cell_type": "markdown",
   "id": "2b1184b5-22e5-457a-b1fc-74cc896091ea",
   "metadata": {},
   "source": [
    "![](./img/P9_3.png)"
   ]
  },
  {
   "cell_type": "markdown",
   "id": "53e05f5a-3b63-45da-ab76-94492237e2bf",
   "metadata": {},
   "source": [
    "![](./img/P9_4.png)"
   ]
  },
  {
   "cell_type": "markdown",
   "id": "db19d89c-ca12-4a3e-a173-0ffe384dcbf6",
   "metadata": {},
   "source": [
    "![](./img/P9_5.png)"
   ]
  },
  {
   "cell_type": "markdown",
   "id": "b1ae935e-7b56-4352-a018-8fb842288525",
   "metadata": {},
   "source": [
    "![](./img/P9_6.png)"
   ]
  },
  {
   "cell_type": "markdown",
   "id": "2d6477e7-80e1-4797-871b-d07bfe776f28",
   "metadata": {},
   "source": [
    "![](./img/P9_7.png)"
   ]
  },
  {
   "cell_type": "code",
   "execution_count": null,
   "id": "2310087a-33b4-4b2d-9e9d-dfad2524f38e",
   "metadata": {},
   "outputs": [],
   "source": [
    "import numpy as np\n",
    "\n",
    "def frequency(matrix, p):\n",
    "    A = np.zeros((matrix.shape[0]))\n",
    "    for i in range(0, matrix.shape[0]):\n",
    "        row = list(matrix[i,:])\n",
    "        maximum = max(row)\n",
    "        minimum = min(row)\n",
    "        gap = (maximum - minimum) / p\n",
    "        row.sort()\n",
    "        group = []\n",
    "        item = minimum\n",
    "        while(item < maximum):\n",
    "            group.append([item, item + gap])\n",
    "            item = item + gap\n",
    "            dataDuct = {}\n",
    "            for k in range(0, len(group)):\n",
    "                dataDict[str(k)] = 0\n",
    "            for j in range(0, matrix.shape[1]):\n",
    "                for k in range(0, len(group)):\n",
    "                    if(matrix[k, j] >= group[k][0]):\n",
    "                        dataDict[str(k)] = dataDict[str(k)] + 1\n",
    "                    break\n",
    "            index = int(max(dataDict, key=dataDict.get))\n",
    "            mid = (group[index][0] + group[index][1]) / 2\n",
    "            A[i] = mid\n",
    "    A = A / sum(A[:])\n",
    "    return A"
   ]
  },
  {
   "cell_type": "markdown",
   "id": "26d47932-2891-43a1-9519-ad827cd1ee13",
   "metadata": {},
   "source": [
    "![](./img/P9_8.png)"
   ]
  },
  {
   "cell_type": "code",
   "execution_count": null,
   "id": "c63b21a7-9699-40f5-9cc8-40f548245244",
   "metadata": {},
   "outputs": [],
   "source": [
    "def AHP(matrix):\n",
    "    if isConsist(matrix):\n",
    "        lam, x = np.linalg.eig(matrix)\n",
    "        return x[0] / sum(x[0][:])\n",
    "    else:\n",
    "        print(\"一致性检验未通过\")\n",
    "        return None\n",
    "    \n",
    "def isConsist(matrix):\n",
    "    n = np.shape(matrix)[0]\n",
    "    a, b = np.linalg.eig(matrix)\n",
    "    maxlam = a[0].real\n",
    "    CI = (maxlam - n)/(n - 1)\n",
    "    RI = [0, 0, 0.58, 0.9, 1.12, 1.24, 1.32, 1.41, 1.45]\n",
    "    CR = CI/RI[n-1]\n",
    "    if CR < 0.1:\n",
    "        return True, CI, RI[n-1]\n",
    "    else:\n",
    "        return False, None, None"
   ]
  },
  {
   "cell_type": "markdown",
   "id": "5f9d5ccf-f55a-42fa-bd44-61c593177bcc",
   "metadata": {},
   "source": [
    "![](./img/P9_9.png)"
   ]
  },
  {
   "cell_type": "code",
   "execution_count": null,
   "id": "c8df5e4c-7db9-40aa-8edb-ee98ae55ae34",
   "metadata": {},
   "outputs": [],
   "source": [
    "def appraise(criterionMatrix, targetMatrixs, relationMatrixs):\n",
    "    R = np.zeros((criterionMatrix.shape[1], relationMatrixs[0].shape[1]))\n",
    "    for index in range(0, len(targetMatrixs)):\n",
    "        row = mul_mymin_operator(targetMatrixs[index], relationMatrixs[index])\n",
    "        R[index] = row\n",
    "    B = mul_mymin_operator(criterionMatrix, R)\n",
    "    return B/sum(B[:])\n",
    "\n",
    "def mul_mymin_operator(A, R):\n",
    "    B = np.zeros((1, R.shape[1]))\n",
    "    for column in range(0, R.shape[1]):\n",
    "        list = []\n",
    "        for row in range(0, R.shape[0]):\n",
    "            list.append(A[row] * R[row, column])\n",
    "        B[0, column] = mymin(list)\n",
    "    return B\n",
    "\n",
    "def mymin(list):\n",
    "    for index in range(1, len(list)):\n",
    "        if index == 1:\n",
    "            temp = min(1, list[0]+list[1])\n",
    "        else:\n",
    "            temp = min(1, temp+list[index])\n",
    "    return temp"
   ]
  },
  {
   "cell_type": "markdown",
   "id": "68474c56-479d-4549-9fa0-73cfab48fae4",
   "metadata": {},
   "source": [
    "![](./img/P9_10.png)"
   ]
  },
  {
   "cell_type": "markdown",
   "id": "192b93f3-951b-46f4-a26c-90ebe378cdb1",
   "metadata": {},
   "source": [
    "![](./img/P9_11.png)"
   ]
  },
  {
   "cell_type": "markdown",
   "id": "b12f9869-453a-46da-a069-37aeb5bcefeb",
   "metadata": {},
   "source": [
    "![](./img/P9_12.png)"
   ]
  },
  {
   "cell_type": "markdown",
   "id": "bd645a23-c02d-4571-a5c5-14989593bfeb",
   "metadata": {},
   "source": [
    "![](./img/P9_13.png)"
   ]
  },
  {
   "cell_type": "markdown",
   "id": "6cea4086-7c5d-4707-a8c3-8fdb7f98d2eb",
   "metadata": {},
   "source": [
    "![](./img/P9_14.png)"
   ]
  },
  {
   "cell_type": "code",
   "execution_count": null,
   "id": "b6c92f72-3c5e-4748-89db-f84bda0c280d",
   "metadata": {},
   "outputs": [],
   "source": [
    "import copy\n",
    "import math\n",
    "import random\n",
    "import time\n",
    "\n",
    "global MAX  # 用于初始化隶属度矩阵U\n",
    "MAX = 10000.0\n",
    "global Epsilon  # 结束条件\n",
    "Epsilon = 0.0000001\n",
    "\n",
    "def import_data_from_iris(file):\n",
    "    data = []\n",
    "    cluster_location = []\n",
    "    with open(str(file), 'r') as f:\n",
    "        for line in f:\n",
    "            current = line.strip().split(\",\")\n",
    "            current_dummy = []\n",
    "            for j in range(0, len(current)-1):\n",
    "                current_dummy.append(float(current[j]))\n",
    "            j += 1\n",
    "            if current[j] == \"Iris-setosa\\n\":\n",
    "                cluster_location.append(0)\n",
    "            elif current[j] == \"Iris-versicolor\\n\":\n",
    "                cluster_location.append(1)\n",
    "            else:\n",
    "                cluster_location.append(2)\n",
    "            data.append(current_dummy)\n",
    "    return data\n",
    "\n",
    "def randomize_data(data):\n",
    "    order = list(range(0, len(data)))\n",
    "    random.shuffle(order)\n",
    "    new_data = [[] for i in range(0,len(data))]\n",
    "    for index in range(0, len(data)):\n",
    "        new_data[index] = data[order[index]]\n",
    "    return new_data, order\n",
    "\n",
    "def de_randomize_data(data, order):\n",
    "    new_data = [[] for i in range(0, len(data))]\n",
    "    for index in range(len(order)):\n",
    "        new_data[order[index]] = data[index]\n",
    "    return new_data\n",
    "\n",
    "def print_matrix(list):\n",
    "    for i in range(0, len(list)):\n",
    "        print(list[i])\n",
    "        \n",
    "def initialize_U(data, cluster_number):\n",
    "    global MAX\n",
    "    U = []\n",
    "    for i in range(0, len(data)):\n",
    "        current = []\n",
    "        rand_sum = 0.0\n",
    "        for j in range(0, cluster_number):\n",
    "            dummy = random.randint(1, int(MAX))\n",
    "            current.append(dummy)\n",
    "            rand_sum += dummy\n",
    "        for j in range(0, cluster_number):\n",
    "            current[j] = current[j] / rand_sum\n",
    "        U.append(current)\n",
    "    return U\n",
    "\n",
    "def distance(point, center):\n",
    "    if len(point) != len(center):\n",
    "        return -1\n",
    "    dummy = 0.0\n",
    "    for i in range(0, len(point)):\n",
    "        dummy += abs(point[i] - center[i]) **2\n",
    "    return math.sqrt(dummy)\n",
    "\n",
    "def end_condition(U, U_old):\n",
    "    global Epsilon\n",
    "    for i in range(0, len(U)):\n",
    "        for j in range(0, len(U[0])):\n",
    "            if abs(U[i][j]-U_old[i][j]) > Epsilon:\n",
    "                return False\n",
    "    return True\n",
    "\n",
    "def normalize_U(U):\n",
    "    for i in range(0, len(U)):\n",
    "        maximum = max(U[i])\n",
    "        for j in range(0, len(U[0])):\n",
    "            if U[i][j] != maximum:\n",
    "                U[i][j] = 0\n",
    "            else:\n",
    "                U[i][j] = 1\n",
    "    return U\n",
    "\n",
    "def fuzzy(data, cluster_number, m):\n",
    "    U = initialize_U(data, cluster_number)\n",
    "    while(True):\n",
    "        U_old = copy.deepcopy(U)\n",
    "        C = []\n",
    "        for j in range(0, cluster_number):\n",
    "            current_cluster_center = []\n",
    "            for i in range(0, len(data[0])):\n",
    "                dummy_sum_num = 0.0\n",
    "                dummy_sum_dum = 0.0\n",
    "                for k in range(0, len(data)):\n",
    "                    dummy_sum_num += (U[k][j]**m)*data[k][i]\n",
    "                    dummy_sum_dum += (U[k][j]**m)\n",
    "                current_cluster_center.append(dummy_sum_num/dummy_sum_dum)\n",
    "            C.append(current_cluster_center)\n",
    "        distance_matrix=[]\n",
    "        for i in range(0, len(data)):\n",
    "            current = []\n",
    "            for j in range(0, cluster_number):\n",
    "                current.append(distance(data[i], C[j]))\n",
    "            distance_matrix.append(current)\n",
    "        for j in range(0, cluster_number):\n",
    "            for i in range(0, len(data)):\n",
    "                dummy = 0.0\n",
    "                for k in range(0, cluster_number):\n",
    "                    dummy += (distance_matrix[i][j]/distance_matrix[i][k])**(2/(m-1))\n",
    "                    U[i][j] = 1/dummy\n",
    "            if end_condition(U, U_old):\n",
    "                print(\"结束聚类\")\n",
    "                break\n",
    "        print(\"标准化U\")\n",
    "        U = normalize_U(U)\n",
    "        return U\n",
    "    \n",
    "def checker_iris(final_location):\n",
    "    right = 0.0\n",
    "    for k in range(0, 3):\n",
    "        checker = [0,0,0]\n",
    "        for i in range(0, 50):\n",
    "            for j in range(0, len(final_location[0])):\n",
    "                if final_location[i+(50*k)][j] == 1:\n",
    "                    checker[j] += 1\n",
    "        right += max(checker)\n",
    "    print(\"分类正确的个数是：\", right)\n",
    "    answer = right/150*100\n",
    "    print(\"准确率：\"+str(answer)+\"%\")\n",
    "    \n",
    "data_iris = import_data_from_iris(\"iris.txt\")\n",
    "data_i, order = randomize_data(data_iris)\n",
    "start = time.time()\n",
    "final_location = fuzzy(data_i,3,2)\n",
    "final_location = de_randomize_data(final_location, order)\n",
    "print(checker_iris(final_location))\n",
    "print(\"用时：{0}\".format(time.time()-start))"
   ]
  },
  {
   "cell_type": "markdown",
   "id": "ad8177a3-2926-46e8-b2d4-f7032fda39dc",
   "metadata": {},
   "source": [
    "![](./img/P9_15.png)"
   ]
  },
  {
   "cell_type": "markdown",
   "id": "75e384b8-1cdf-40c0-bd4e-35eab223b7f8",
   "metadata": {},
   "source": [
    "![](./img/P9_16.png)"
   ]
  },
  {
   "cell_type": "markdown",
   "id": "686092c1-feb9-434e-99fb-eaa63e1b5ef2",
   "metadata": {},
   "source": [
    "![](./img/P9_17.png)"
   ]
  },
  {
   "cell_type": "markdown",
   "id": "d2310773-54e5-4407-be20-8352eb60fb15",
   "metadata": {},
   "source": [
    "![](./img/P9_18.png)"
   ]
  },
  {
   "cell_type": "markdown",
   "id": "459e99e6-38bd-41f3-9a13-c2eaa1d2f1f8",
   "metadata": {},
   "source": [
    "![](./img/P9_19.png)"
   ]
  },
  {
   "cell_type": "markdown",
   "id": "29242356-3bf3-47b3-8eac-2a4c584e2f99",
   "metadata": {},
   "source": [
    "![](./img/P9_20.png)"
   ]
  },
  {
   "cell_type": "code",
   "execution_count": 12,
   "id": "7384b4b4-a098-447c-8010-ebba646ac2fd",
   "metadata": {},
   "outputs": [
    {
     "name": "stdout",
     "output_type": "stream",
     "text": [
      "<class 'numpy.ndarray'>\n",
      "0.0002\n",
      "[91 93 95 97 99]\n",
      "[0.0, 101.1007, 103.2289]\n"
     ]
    },
    {
     "name": "stderr",
     "output_type": "stream",
     "text": [
      "D:\\anaconda3\\envs\\swin\\lib\\site-packages\\ipykernel_launcher.py:30: UserWarning: To copy construct from a tensor, it is recommended to use sourceTensor.clone().detach() or sourceTensor.clone().detach().requires_grad_(True), rather than torch.tensor(sourceTensor).\n"
     ]
    }
   ],
   "source": [
    "import torch as th\n",
    "import numpy as np\n",
    "\n",
    "class GM():\n",
    "    def __init__(self):\n",
    "        self._is_gpu = False  # 判断是否可用GPU编程\n",
    "    def fit(self, dt:list or np.ndarray):\n",
    "        self._df:th.Tensor=th.from_numpy(np.array(dt,dtype=np.float32))\n",
    "        if self._is_gpu:\n",
    "            self._df.cuda()\n",
    "        self._n:int = len(self._df)\n",
    "        self._x,self._max_value = self._sigmod(self._df)\n",
    "        z:th.Tensor = self._next_to_mean(th.cumsum(self._x,dim=0))\n",
    "        self.coef:th.Tensor = self._coefficient(self._x, z)\n",
    "        del z\n",
    "        self._x0:th.Tensor = self._x[0]\n",
    "        self._pre:th.Tensor = self._pred()\n",
    "    def _sigmod(self, x:th.Tensor):\n",
    "        _maxv:th.Tensor = th.max(x)\n",
    "        return th.div(x, _maxv), _maxv\n",
    "    def _next_to_mean(self, x_1:th.Tensor):\n",
    "        z:th.Tensor = th.zeros(self._n-1)\n",
    "        if self._is_gpu:\n",
    "            z.cuda()\n",
    "        for i in range(1, self._n):\n",
    "            z[i-1]=0.5*x_1[i]+0.5*x_1[i-1]\n",
    "        return z\n",
    "    def _coefficient(self, x:th.Tensor, z:th.Tensor):\n",
    "        B:th.Tensor = th.stack((-1*z, th.ones(self._n-1)),dim=1)\n",
    "        Y:th.Tensor = th.tensor(x[1:], dtype=th.float32).reshape((-1,1))\n",
    "        if self._is_gpu:\n",
    "            B.cuda()\n",
    "            Y.cuda()\n",
    "        return th.matmul(th.matmul(th.inverse(th.matmul(B.t(),B)),B.t()),Y)\n",
    "    def _pred(self, start:int=1, end:int=0):\n",
    "        les:int = self._n+end\n",
    "        result:th.Tensor = th.zeros(les)\n",
    "        if self._is_gpu:\n",
    "            result.cuda()\n",
    "        result[0]=self._x0\n",
    "        for i in range(start,les):\n",
    "            result[i]=(self._x0 - (self.coef[1]/self.coef[0]))*(1-th.exp(self.coef[0]))*th.exp(-1*self.coef[0]*(i))\n",
    "        del les\n",
    "        return result\n",
    "    def confidence(self):\n",
    "        return round((th.sum(th.abs(th.div((self._x-self._pre),self._x)))/self._n).item(),4)\n",
    "    def predict(self, m:int=1, decimals:int=4):\n",
    "        y_pred:th.Tensor = th.mul(self._pre,self._max_value)\n",
    "        y_pred = th.zeros(1)\n",
    "        if m<0:\n",
    "            return \"预测个数需大于等于0\"\n",
    "        elif m>0:\n",
    "            y_pred_:th.Tensor=self._pred(self._n,m)[-m:].mul(self._max_value)\n",
    "        else:\n",
    "            if self._is_gpu:\n",
    "                return list(map(lambda _:round(_,decimals),y_pred.cpu().numpy().tolist()))\n",
    "            else:\n",
    "                return list(map(lambda _:round(_,decimals),y_pred.numpy().tolist()))\n",
    "        result:th.Tensor = th.cat((y_pred,y_pred_),dim=0)\n",
    "        del y_pred,y_pred_\n",
    "        if self._is_gpu:\n",
    "            return list(map(lambda _:round(_,decimals),result.cpu().numpy().tolist()))\n",
    "        return list(map(lambda _:round(_,decimals),result.numpy().tolist()))\n",
    "    \n",
    "ls = np.arange(91,100,2)\n",
    "print(type(ls))\n",
    "gm = GM()\n",
    "gm.fit(ls)\n",
    "print(gm.confidence())\n",
    "print(ls)\n",
    "print(gm.predict(m=2))"
   ]
  },
  {
   "cell_type": "code",
   "execution_count": null,
   "id": "f045b277-304a-42c6-aa17-38736c4acab2",
   "metadata": {},
   "outputs": [],
   "source": []
  }
 ],
 "metadata": {
  "kernelspec": {
   "display_name": "Python 3 (ipykernel)",
   "language": "python",
   "name": "python3"
  },
  "language_info": {
   "codemirror_mode": {
    "name": "ipython",
    "version": 3
   },
   "file_extension": ".py",
   "mimetype": "text/x-python",
   "name": "python",
   "nbconvert_exporter": "python",
   "pygments_lexer": "ipython3",
   "version": "3.7.13"
  }
 },
 "nbformat": 4,
 "nbformat_minor": 5
}
