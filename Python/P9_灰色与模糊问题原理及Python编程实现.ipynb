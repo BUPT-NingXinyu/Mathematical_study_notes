{
 "cells": [
  {
   "cell_type": "markdown",
   "id": "18735f46-fea8-44cb-aa07-e29b3e3e389f",
   "metadata": {},
   "source": [
    "# Python之建模灰色篇"
   ]
  },
  {
   "cell_type": "markdown",
   "id": "ec185fe1-db1c-4a69-8b80-9346dde01c1a",
   "metadata": {},
   "source": [
    "* 多层模糊评价\n",
    "* 模糊c均值聚类 （FCM聚类）\n",
    "* 灰色预测 （GME）"
   ]
  },
  {
   "cell_type": "code",
   "execution_count": null,
   "id": "d6fabf34-1b66-49c2-a2aa-9198fb2eaecd",
   "metadata": {},
   "outputs": [],
   "source": []
  }
 ],
 "metadata": {
  "kernelspec": {
   "display_name": "Python 3 (ipykernel)",
   "language": "python",
   "name": "python3"
  },
  "language_info": {
   "codemirror_mode": {
    "name": "ipython",
    "version": 3
   },
   "file_extension": ".py",
   "mimetype": "text/x-python",
   "name": "python",
   "nbconvert_exporter": "python",
   "pygments_lexer": "ipython3",
   "version": "3.7.13"
  }
 },
 "nbformat": 4,
 "nbformat_minor": 5
}
