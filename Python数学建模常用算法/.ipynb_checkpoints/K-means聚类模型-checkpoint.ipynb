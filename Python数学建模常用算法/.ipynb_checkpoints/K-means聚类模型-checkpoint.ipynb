{
 "cells": [
  {
   "cell_type": "markdown",
   "id": "b3b609e0-de2a-49f0-8b64-f1dcb5635911",
   "metadata": {},
   "source": [
    "# K-means聚类模型"
   ]
  },
  {
   "cell_type": "markdown",
   "id": "8d1f1cf9-2dbf-4467-89e7-4e92afae8958",
   "metadata": {},
   "source": [
    " K均值聚类算法是先随机选取K个对象作为初始的聚类中心。然后计算每个对象与各个种子聚类中心之间的距离，把每个对象分配给距离它最近的聚类中心。聚类中心以及分配给它们的对象就代表一个聚类。每分配一个样本，聚类的聚类中心会根据聚类中现有的对象被重新计算。这个过程将不断重复直到满足某个终止条件。终止条件可以是没有（或最小数目）对象被重新分配给不同的聚类，没有（或最小数目）聚类中心再发生变化，误差平方和局部最小。"
   ]
  },
  {
   "cell_type": "code",
   "execution_count": 1,
   "id": "84b83eae-7a3d-4f20-b917-2fd57de7493d",
   "metadata": {},
   "outputs": [
    {
     "name": "stdout",
     "output_type": "stream",
     "text": [
      "[[0.61277838 4.16615245]\n",
      " [0.75171994 4.38035278]\n",
      " [1.04991755 4.26529735]\n",
      " [1.33722719 3.55990882]\n",
      " [0.6839351  3.94350935]\n",
      " [0.96971417 3.99212035]\n",
      " [1.10362027 3.73187866]\n",
      " [0.56076452 3.67021254]\n",
      " [0.76642789 4.27218325]\n",
      " [1.2552742  4.07210015]\n",
      " [4.11029915 4.16615245]\n",
      " [3.68543303 4.38035278]\n",
      " [4.40255786 4.26529735]\n",
      " [3.5610197  3.55990882]\n",
      " [3.89755077 3.94350935]\n",
      " [4.26629234 3.99212035]\n",
      " [4.11547637 3.73187866]\n",
      " [3.71209129 3.67021254]\n",
      " [4.38848475 4.27218325]\n",
      " [3.93464999 4.07210015]]\n"
     ]
    }
   ],
   "source": [
    "# 1.首先创建一个明显分为2类20*2的例子（每一列为一个变量共2个变量，每一行为一个样本共20个样本）\n",
    "import numpy as np\n",
    "c1x=np.random.uniform(0.5,1.5,(1,10))\n",
    "c1y=np.random.uniform(0.5,1.5,(1,10))\n",
    "c2x=np.random.uniform(3.5,4.5,(1,10))\n",
    "c2y=np.random.uniform(3.5,4.5,(1,10))\n",
    "x=np.hstack((c1x,c2x))\n",
    "y=np.hstack((c2y,c2y))\n",
    "X=np.vstack((x,y)).T\n",
    "print(X)"
   ]
  },
  {
   "cell_type": "code",
   "execution_count": 2,
   "id": "f3d112c8-370e-4e11-a786-29d885a6878b",
   "metadata": {},
   "outputs": [
    {
     "name": "stdout",
     "output_type": "stream",
     "text": [
      "[0 0 0 0 0 0 0 0 0 0 1 1 1 1 1 1 1 1 1 1]\n"
     ]
    },
    {
     "data": {
      "image/png": "[encoded data removed]",
      "text/plain": [
       "<Figure size 432x288 with 1 Axes>"
      ]
     },
     "metadata": {
      "needs_background": "light"
     },
     "output_type": "display_data"
    }
   ],
   "source": [
    "# 2.引用Python库将样本分为两类（k=2），并绘制散点图\n",
    "import matplotlib.pyplot as plt\n",
    "from sklearn.cluster import KMeans\n",
    " \n",
    "kemans=KMeans(n_clusters=2)\n",
    "result=kemans.fit_predict(X) #训练及预测\n",
    "print(result)   #分类结果\n",
    " \n",
    "plt.rcParams['font.family'] = ['sans-serif']\n",
    "plt.rcParams['font.sans-serif'] = ['SimHei'] #散点图标签可以显示中文\n",
    " \n",
    "x=[i[0] for i in X]\n",
    "y=[i[1] for i in X]\n",
    "plt.scatter(x,y,c=result,marker='o')\n",
    "plt.xlabel('x')\n",
    "plt.ylabel('y')\n",
    "plt.show()"
   ]
  },
  {
   "cell_type": "code",
   "execution_count": 7,
   "id": "412b655b-9b7e-41fc-ba3b-9a21ca54b61d",
   "metadata": {},
   "outputs": [
    {
     "name": "stderr",
     "output_type": "stream",
     "text": [
      "D:\\anaconda3\\envs\\swin\\lib\\site-packages\\sklearn\\cluster\\_kmeans.py:1037: UserWarning: KMeans is known to have a memory leak on Windows with MKL, when there are less chunks than available threads. You can avoid it by setting the environment variable OMP_NUM_THREADS=1.\n",
      "  \"KMeans is known to have a memory leak on Windows \"\n"
     ]
    },
    {
     "data": {
      "image/png": "[encoded data removed]",
      "text/plain": [
       "<Figure size 432x288 with 1 Axes>"
      ]
     },
     "metadata": {
      "needs_background": "light"
     },
     "output_type": "display_data"
    }
   ],
   "source": [
    "# 3.如果K值未知，可采用肘部法选择K值（假设最大分类数为9类，分别计算分类结果为1-9类的平均离差，离差的提升变化下降最抖时的值为最优聚类数K）\n",
    "import matplotlib.pyplot as plt\n",
    "from sklearn.cluster import KMeans\n",
    "from scipy.spatial.distance import cdist\n",
    " \n",
    "K=range(1,10)\n",
    "meanDispersions=[]\n",
    "for k in K:\n",
    "    kemans=KMeans(n_clusters=k)\n",
    "    kemans.fit(X)\n",
    "    #计算平均离差\n",
    "    m_Disp=sum(np.min(cdist(X,kemans.cluster_centers_,'euclidean'),axis=1))/X.shape[0]\n",
    "    meanDispersions.append(m_Disp)\n",
    "\n",
    "plt.rcParams['font.family'] = ['sans-serif']\n",
    "plt.rcParams['font.sans-serif'] = ['SimHei'] #使折线图显示中文\n",
    " \n",
    "plt.plot(K,meanDispersions,'bx-')\n",
    "plt.xlabel('k')\n",
    "plt.ylabel('平均离差')\n",
    "plt.title('用肘部方法选择K值')\n",
    "plt.show()"
   ]
  },
  {
   "cell_type": "markdown",
   "id": "bf6191ff-04f6-4474-95e1-0de6335a5edc",
   "metadata": {},
   "source": [
    "# 实例分析（对某网站500家饭店价格及评论进行聚类）\n",
    "\n",
    "## 未找到相关数据集"
   ]
  },
  {
   "cell_type": "code",
   "execution_count": null,
   "id": "a33d358b-79da-4800-826a-c886a99cb64b",
   "metadata": {},
   "outputs": [],
   "source": [
    "import numpy as np\n",
    "from sklearn.cluster import KMeans\n",
    "from scipy.spatial.distance import cdist\n",
    "import matplotlib.pyplot as plt\n",
    "import pandas as pd\n",
    " \n",
    "data=pd.read_excel('data.xlsx',header=0).iloc[:501,3:5]\n",
    "per_25=data.describe().iloc[4,1]\n",
    "per_75=data.describe().iloc[6,1]\n",
    "data=data[(data.iloc[:,1]>=per_25)&(data.iloc[:,1]<=per_75)] #选择位于四分位数之内的数\n",
    "X=np.array(data)\n",
    "\n",
    "K=range(1,10)\n",
    "meanDispersions=[]\n",
    "for k in K:\n",
    "    kemans=KMeans(n_clusters=k)\n",
    "    kemans.fit(X)\n",
    "    meanDispersions.append(sum(np.min(cdist(X,kemans.cluster_centers_,'euclidean'),axis=1))/X.shape[0])\n",
    "\n",
    "plt.rcParams['font.family'] = ['sans-serif']\n",
    "plt.rcParams['font.sans-serif'] = ['SimHei']\n",
    "plt.plot(K,meanDispersions,'bx-')\n",
    "plt.xlabel('k')\n",
    "plt.ylabel('平均离差')\n",
    "plt.title('用肘部方法选择K值')\n",
    "plt.show()"
   ]
  },
  {
   "cell_type": "markdown",
   "id": "60b2d3c4-6fdb-4004-904c-91b0c2ace64a",
   "metadata": {},
   "source": [
    "## 具体聚类过程"
   ]
  },
  {
   "cell_type": "code",
   "execution_count": null,
   "id": "2b63865a-ed09-47e9-8648-0daa75b522bf",
   "metadata": {},
   "outputs": [],
   "source": [
    "from sklearn.cluster import KMeans\n",
    "import matplotlib.pyplot as plt\n",
    " \n",
    "kemans=KMeans(n_clusters=3)\n",
    "result=kemans.fit_predict(X)\n",
    "print(result)\n",
    "x=[i[0] for i in X]\n",
    "y=[i[1] for i in X]\n",
    "plt.scatter(x,y,c=result,marker='o')\n",
    "plt.xlabel('avgPrice')\n",
    "plt.ylabel('llCommentNum')\n",
    "plt.title('对500家饭店价格与评论数进行聚类')"
   ]
  }
 ],
 "metadata": {
  "kernelspec": {
   "display_name": "Python 3 (ipykernel)",
   "language": "python",
   "name": "python3"
  },
  "language_info": {
   "codemirror_mode": {
    "name": "ipython",
    "version": 3
   },
   "file_extension": ".py",
   "mimetype": "text/x-python",
   "name": "python",
   "nbconvert_exporter": "python",
   "pygments_lexer": "ipython3",
   "version": "3.7.13"
  }
 },
 "nbformat": 4,
 "nbformat_minor": 5
}
