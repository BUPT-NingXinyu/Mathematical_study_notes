{
 "cells": [
  {
   "cell_type": "markdown",
   "id": "2a76bedf-f7eb-4ea7-87e3-b5c1c160f43b",
   "metadata": {},
   "source": [
    "# 匈牙利算法(指派问题）\n",
    "\n",
    "算法解释：https://blog.csdn.net/qq_42178122/article/details/116196071\n",
    "\n",
    "及匈牙利算法用于解开销矩阵的最小开销\n",
    "\n",
    "使用scipy库实现：（算法来源https://docs.scipy.org/doc/scipy/reference/generated/scipy.optimize.linear_sum_assignment.html#scipy.optimize.linear_sum_assignment）"
   ]
  },
  {
   "cell_type": "code",
   "execution_count": 2,
   "id": "2ccdeb09-fa2e-4318-8b7e-4994b892562e",
   "metadata": {},
   "outputs": [
    {
     "name": "stdout",
     "output_type": "stream",
     "text": [
      "[0 1 2]\n",
      "[1 0 2]\n",
      "[1 2 2]\n",
      "5\n"
     ]
    }
   ],
   "source": [
    "from scipy.optimize import linear_sum_assignment\n",
    "import numpy as np\n",
    "\n",
    "cost =np.array([[4,1,3],[2,0,5],[3,2,2]])\n",
    "row_ind,col_ind=linear_sum_assignment(cost)\n",
    "print(row_ind)  # 开销矩阵对应的行索引\n",
    "print(col_ind)  # 对应行索引的最优指派的列索引\n",
    "print(cost[row_ind,col_ind])  # 提取每个行索引的最优指派列索引所在的元素，形成数组\n",
    "print(cost[row_ind,col_ind].sum())  # 数组求和"
   ]
  },
  {
   "cell_type": "markdown",
   "id": "b35c012d-e4cb-42a8-b4b7-8ad1a1e5c765",
   "metadata": {},
   "source": [
    "## 非线性整数规划"
   ]
  },
  {
   "cell_type": "markdown",
   "id": "e32a38ce-7e0c-41d9-8e6a-d66ab26436bb",
   "metadata": {},
   "source": [
    "对于非线性整数规划，可使用蒙特卡洛法进行估算：\n",
    "\n",
    "$\\max z = x_1^2+x_2^2+3x_3^2+4x_4^2+2x_5^2-8x_1-2x_2-3x_3-x_4-2x_5$\n",
    "\n",
    "$s.t.=\n",
    "\\begin {cases}0\\le x_i\\le99, \\\\\n",
    "x_1+x_2+x_3+x_4+x_5\\le400, \\\\\n",
    "x_1+2x_2+2x_3+x_4+6x_5\\le800, \\\\\n",
    "2x_1+x_2+6x_3\\le200, \\\\\n",
    "x_3+x_4+5x_5\\le500.\n",
    "\\end {cases}$"
   ]
  },
  {
   "cell_type": "code",
   "execution_count": 12,
   "id": "b6957bb6-1156-4675-b656-706809bd48e4",
   "metadata": {
    "scrolled": true,
    "tags": []
   },
   "outputs": [
    {
     "name": "stdout",
     "output_type": "stream",
     "text": [
      "0\n",
      "100000\n",
      "200000\n",
      "300000\n",
      "400000\n",
      "500000\n",
      "600000\n",
      "700000\n",
      "800000\n",
      "900000\n",
      "x= [46 92  0 99 78]\n",
      "ans= 61145\n"
     ]
    }
   ],
   "source": [
    "import numpy as np\n",
    "\n",
    "\n",
    "def check(x):\n",
    "    if x.sum() > 400:\n",
    "        return False\n",
    "    if x[0]+2*x[1]+2*x[2]+x[3]+6*x[4] > 800:\n",
    "        return False\n",
    "    if 2*x[0]+x[1]+6*x[2]>200:\n",
    "        return False\n",
    "    if x[2]+x[3]+5*x[4]>500:\n",
    "        return False\n",
    "    return True\n",
    "\n",
    "\n",
    "def get_radom():\n",
    "    x = np.random.randint(100, size=5)\n",
    "    while not check(x):\n",
    "        x = get_radom()\n",
    "    return x\n",
    "\n",
    "\n",
    "lim = 10**6\n",
    "ans = -1\n",
    "ans_x = []\n",
    "\n",
    "for i in range(lim):\n",
    "    num = get_radom()\n",
    "    #print(num)\n",
    "    #print(num[0]**2+num[1]**2+3*num[2]**2+4*num[3]**2+2*num[4]**2-8*num[0]-2*num[1]-3*num[2]-num[3]-2*num[4])\n",
    "    if(num[0]**2+num[1]**2+3*num[2]**2+4*num[3]**2+2*num[4]**2-8*num[0]-2*num[1]-3*num[2]-num[3]-2*num[4]>ans):\n",
    "        ans = num[0]**2+num[1]**2+3*num[2]**2+4*num[3]**2+2*num[4]**2-8*num[0]-2*num[1]-3*num[2]-num[3]-2*num[4]\n",
    "        ans_x = num\n",
    "    if i % 100000 == 0:\n",
    "        print(i)\n",
    "print('x=',ans_x)\n",
    "print('ans=',ans)"
   ]
  },
  {
   "cell_type": "code",
   "execution_count": null,
   "id": "beabd3d9-89c8-4230-97db-0307ca259233",
   "metadata": {},
   "outputs": [],
   "source": []
  }
 ],
 "metadata": {
  "kernelspec": {
   "display_name": "Python 3 (ipykernel)",
   "language": "python",
   "name": "python3"
  },
  "language_info": {
   "codemirror_mode": {
    "name": "ipython",
    "version": 3
   },
   "file_extension": ".py",
   "mimetype": "text/x-python",
   "name": "python",
   "nbconvert_exporter": "python",
   "pygments_lexer": "ipython3",
   "version": "3.7.13"
  }
 },
 "nbformat": 4,
 "nbformat_minor": 5
}
