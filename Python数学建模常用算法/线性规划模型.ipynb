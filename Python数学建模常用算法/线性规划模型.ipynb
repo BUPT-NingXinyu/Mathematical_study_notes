{
 "cells": [
  {
   "cell_type": "markdown",
   "id": "b87b77a3-c130-44f3-b4e9-b63f9b5c4751",
   "metadata": {},
   "source": [
    "# 线性规划模型"
   ]
  },
  {
   "cell_type": "markdown",
   "id": "6b727728-269f-4fe4-a833-be31ad66e9c8",
   "metadata": {},
   "source": [
    "使用 scipy 求解下述线性规划问题\n",
    "\n",
    "标准形式为：\n",
    "\n",
    "$\\min z = 2x_1+3x_2+x_3$\n",
    "\n",
    "$s.t$\n",
    "\n",
    "$\\begin {cases}x_1+4x_2+2x_3\\ge8, \\\\\n",
    "3x_1+2x_2\\ge6, \\\\\n",
    "x_1,x_2,x_3\\ge0 \\\\\n",
    "\\end {cases}$"
   ]
  },
  {
   "cell_type": "code",
   "execution_count": 1,
   "id": "349911ad-e258-47b9-bae6-72b904465249",
   "metadata": {},
   "outputs": [
    {
     "name": "stdout",
     "output_type": "stream",
     "text": [
      "     con: array([], dtype=float64)\n",
      "     fun: 6.999999994872994\n",
      " message: 'Optimization terminated successfully.'\n",
      "     nit: 3\n",
      "   slack: array([ 3.85261423e-09, -1.41066279e-08])\n",
      "  status: 0\n",
      " success: True\n",
      "       x: array([1.17949641, 1.23075538, 0.94874104])\n"
     ]
    }
   ],
   "source": [
    "import numpy as np\n",
    "from scipy.optimize import linprog\n",
    "\n",
    "c = np.array([2, 3, 1])\n",
    "A_up = np.array([[-1, -4, -2], [-3, -2, 0]])\n",
    "b_up = np.array([-8, -6])\n",
    "\n",
    "r = linprog(c, A_ub=A_up, b_ub=b_up, bounds=((0, None), (0, None), (0, None)))\n",
    "\n",
    "print(r)"
   ]
  },
  {
   "cell_type": "code",
   "execution_count": null,
   "id": "b02f665c-f61b-4490-9caf-18d14946001c",
   "metadata": {},
   "outputs": [],
   "source": []
  }
 ],
 "metadata": {
  "kernelspec": {
   "display_name": "Python 3 (ipykernel)",
   "language": "python",
   "name": "python3"
  },
  "language_info": {
   "codemirror_mode": {
    "name": "ipython",
    "version": 3
   },
   "file_extension": ".py",
   "mimetype": "text/x-python",
   "name": "python",
   "nbconvert_exporter": "python",
   "pygments_lexer": "ipython3",
   "version": "3.7.13"
  }
 },
 "nbformat": 4,
 "nbformat_minor": 5
}
